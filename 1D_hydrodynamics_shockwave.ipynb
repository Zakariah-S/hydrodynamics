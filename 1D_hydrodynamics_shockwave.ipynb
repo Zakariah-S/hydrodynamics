{
 "cells": [
  {
   "cell_type": "code",
   "execution_count": 1,
   "id": "ef7b9f8b",
   "metadata": {},
   "outputs": [],
   "source": [
    "import numpy as np\n",
    "import matplotlib.pyplot as plt"
   ]
  },
  {
   "cell_type": "code",
   "execution_count": 53,
   "id": "973f858c",
   "metadata": {},
   "outputs": [],
   "source": [
    "def sound_speed(P, rho):\n",
    "    \"\"\"Calculate sound speed.\"\"\"\n",
    "    epsilon = 1e-6  # Small value to avoid division by zero\n",
    "    P = abs(P)  # Ensure pressure is non-negative\n",
    "    \n",
    "    return np.sqrt(gamma * P / rho+epsilon )"
   ]
  },
  {
   "cell_type": "code",
   "execution_count": 54,
   "id": "a742199a",
   "metadata": {},
   "outputs": [],
   "source": [
    "def compute_flux(U):\n",
    "    \"\"\"Compute the flux vector F for a single row of conserved variables.\"\"\"\n",
    "    rho, rho_v, E = U  # Extract variables\n",
    "\n",
    "    # Ensure non-zero density and energy\n",
    "    rho = max(rho, 1e-8)  # Avoid zero density\n",
    "    E = max(E, 1e-8)      # Avoid zero or negative energy\n",
    "\n",
    "    # Compute velocity and pressure\n",
    "    v = rho_v / rho  # Velocity\n",
    "    P = max((gamma - 1) * (E - 0.5 * rho * v ** 2), 0.0)  # Pressure\n",
    "\n",
    "    # Compute fluxes\n",
    "    F = np.zeros(3)\n",
    "    F[0] = rho_v  # Mass flux\n",
    "    F[1] = rho_v * v + P  # Momentum flux\n",
    "    F[2] = (E + P) * v  # Energy flux\n",
    "\n",
    "    return F\n"
   ]
  },
  {
   "cell_type": "code",
   "execution_count": 55,
   "id": "496369ee",
   "metadata": {},
   "outputs": [],
   "source": [
    "def HLL_flux(UL, UR):\n",
    "    \"\"\"HLL Riemann solver to compute flux at the interface.\"\"\"\n",
    "    FL = compute_flux(UL)\n",
    "    FR = compute_flux(UR)\n",
    "\n",
    "    # Extract variables from left and right states\n",
    "    rhoL, vL = UL[0], UL[1] / max(UL[0], 1e-8)\n",
    "    rhoR, vR = UR[0], UR[1] / max(UR[0], 1e-8)\n",
    "\n",
    "    # Compute pressures\n",
    "    PL = max((gamma - 1) * (UL[2] - 0.5 * rhoL * vL ** 2), 0.0)\n",
    "    PR = max((gamma - 1) * (UR[2] - 0.5 * rhoR * vR ** 2), 0.0)\n",
    "\n",
    "    # Compute sound speeds\n",
    "    cL = sound_speed(PL, rhoL)\n",
    "    cR = sound_speed(PR, rhoR)\n",
    "\n",
    "    # Compute wave speeds\n",
    "    alpha_minus = min(vL - cL, vR - cR)  # Leftward moving wave speed\n",
    "    alpha_plus = max(vL + cL, vR + cR)   # Rightward moving wave speed\n",
    "\n",
    "    # Compute the maximum wave speed for CFL condition\n",
    "    alpha_max = max(abs(alpha_minus), abs(alpha_plus))\n",
    "\n",
    "    # Compute the HLL flux based on wave speeds\n",
    "    if alpha_minus >= 0:\n",
    "        flux = FL  # Use left flux if all waves move to the right\n",
    "    elif alpha_plus <= 0:\n",
    "        flux = FR  # Use right flux if all waves move to the left\n",
    "    else:\n",
    "        # Intermediate state: mix fluxes\n",
    "        flux = (alpha_plus * FL + alpha_minus * FR -\n",
    "                alpha_plus * alpha_minus * (UR - UL)) / (alpha_plus - alpha_minus)\n",
    "\n",
    "    return flux, alpha_max  # Return both flux and max wave speed\n",
    "\n"
   ]
  },
  {
   "cell_type": "code",
   "execution_count": 56,
   "id": "35b54325",
   "metadata": {},
   "outputs": [],
   "source": [
    "def check_for_nan(U):\n",
    "    \"\"\"Check for NaN values and stop the simulation if any are found.\"\"\"\n",
    "    if np.any(np.isnan(U)):\n",
    "        print(\"NaN detected! Stopping simulation.\")\n",
    "        print(U)\n",
    "        raise ValueError(\"NaN values encountered!\")"
   ]
  },
  {
   "cell_type": "code",
   "execution_count": 65,
   "id": "d7de0e8a",
   "metadata": {},
   "outputs": [],
   "source": [
    "def update(U, dt):\n",
    "    \"\"\"Update conserved variables using fluxes.\"\"\"\n",
    "    U_new = np.copy(U)\n",
    "    global_max_alpha = 1e-8  # Track the maximum wave speed across the entire grid\n",
    "\n",
    "    for i in range(1, len(U) - 1):\n",
    "        # Compute fluxes and wave speeds at the interfaces\n",
    "        flux_left, alpha_left = HLL_flux(U[i - 1], U[i])\n",
    "        flux_right, alpha_right = HLL_flux(U[i], U[i + 1])\n",
    "\n",
    "        # Track the maximum wave speed for CFL condition\n",
    "        global_max_alpha = max(global_max_alpha, alpha_left, alpha_right)\n",
    "\n",
    "        # Update the conserved variables\n",
    "        print(flux_right - flux_left)\n",
    "        U_new[i] = U[i] - (0.5 * global_max_alpha) * (flux_right - flux_left) # 0.5 * global_max_alpha = dt/dx (0.5 is cfl)\n",
    "\n",
    "    return U_new, global_max_alpha  # Return updated state and max alpha\n"
   ]
  },
  {
   "cell_type": "code",
   "execution_count": 66,
   "id": "61ce25da",
   "metadata": {},
   "outputs": [],
   "source": [
    "# Parameters\n",
    "gamma = 1.4  # Adiabatic index for ideal gas\n",
    "Nx = 5  # Number of grid cells\n",
    "x_min, x_max = 0.0, 1.0  # Domain\n",
    "dx = (x_max - x_min) / Nx  # Grid spacing\n",
    "\n",
    "# Time step parameters\n",
    "CFL = 0.5  # Courant number for stability\n",
    "t_max = 0.5  # Maximum simulation time"
   ]
  },
  {
   "cell_type": "code",
   "execution_count": 67,
   "id": "b55834c0",
   "metadata": {},
   "outputs": [],
   "source": [
    "# Initialize arrays for conserved variables: U[rho, rho*v, E]\n",
    "U = np.zeros((Nx, 3))  # U[i] = [rho_i, rho*v_i, E_i]\n",
    "\n",
    "# Initial conditions for a shock tube\n",
    "U[: len(U) // 2, 0] = 1.0  # Left half: density (rho) = 1.0\n",
    "U[len(U) // 2 :, 0] = 0.125  # Right half: density (rho) = 0.125\n",
    "\n",
    "U[: len(U) // 2, 2] = 2.5  # Left half: energy = 2.5\n",
    "U[len(U) // 2 :, 2] = 0.25  # Right half: energy = 0.25\n",
    "\n"
   ]
  },
  {
   "cell_type": "code",
   "execution_count": 68,
   "id": "77176bbb",
   "metadata": {},
   "outputs": [
    {
     "name": "stdout",
     "output_type": "stream",
     "text": [
      "[-0.51765717  0.45       -1.33111843]\n",
      "[ 0.51765717 -0.45        1.33111843]\n",
      "[0. 0. 0.]\n",
      "[-1.45850862e+00 -4.15464990e+06 -3.74471635e+00]\n",
      "[nan nan nan]\n",
      "[nan nan nan]\n",
      "NaN detected! Stopping simulation.\n",
      "[[1.00000000e+00 0.00000000e+00 2.50000000e+00]\n",
      " [2.31704899e+00 2.87932108e+06 5.88272326e+00]\n",
      " [           nan            nan            nan]\n",
      " [           nan            nan            nan]\n",
      " [1.25000000e-01 0.00000000e+00 2.50000000e-01]]\n"
     ]
    },
    {
     "name": "stderr",
     "output_type": "stream",
     "text": [
      "<ipython-input-53-e3fa8ea35d7e>:6: RuntimeWarning: invalid value encountered in sqrt\n",
      "  return np.sqrt(gamma * P / rho+epsilon )\n"
     ]
    },
    {
     "ename": "ValueError",
     "evalue": "NaN values encountered!",
     "output_type": "error",
     "traceback": [
      "\u001b[0;31m---------------------------------------------------------------------------\u001b[0m",
      "\u001b[0;31mValueError\u001b[0m                                Traceback (most recent call last)",
      "\u001b[0;32m<ipython-input-68-ce46da625c28>\u001b[0m in \u001b[0;36m<module>\u001b[0;34m\u001b[0m\n\u001b[1;32m      8\u001b[0m \u001b[0;34m\u001b[0m\u001b[0m\n\u001b[1;32m      9\u001b[0m     \u001b[0;31m# Check for NaN values\u001b[0m\u001b[0;34m\u001b[0m\u001b[0;34m\u001b[0m\u001b[0;34m\u001b[0m\u001b[0m\n\u001b[0;32m---> 10\u001b[0;31m     \u001b[0mcheck_for_nan\u001b[0m\u001b[0;34m(\u001b[0m\u001b[0mU\u001b[0m\u001b[0;34m)\u001b[0m\u001b[0;34m\u001b[0m\u001b[0;34m\u001b[0m\u001b[0m\n\u001b[0m\u001b[1;32m     11\u001b[0m \u001b[0;34m\u001b[0m\u001b[0m\n\u001b[1;32m     12\u001b[0m     \u001b[0;31m# Compute the new time step based on CFL condition\u001b[0m\u001b[0;34m\u001b[0m\u001b[0;34m\u001b[0m\u001b[0;34m\u001b[0m\u001b[0m\n",
      "\u001b[0;32m<ipython-input-56-3153cb02ed7f>\u001b[0m in \u001b[0;36mcheck_for_nan\u001b[0;34m(U)\u001b[0m\n\u001b[1;32m      4\u001b[0m         \u001b[0mprint\u001b[0m\u001b[0;34m(\u001b[0m\u001b[0;34m\"NaN detected! Stopping simulation.\"\u001b[0m\u001b[0;34m)\u001b[0m\u001b[0;34m\u001b[0m\u001b[0;34m\u001b[0m\u001b[0m\n\u001b[1;32m      5\u001b[0m         \u001b[0mprint\u001b[0m\u001b[0;34m(\u001b[0m\u001b[0mU\u001b[0m\u001b[0;34m)\u001b[0m\u001b[0;34m\u001b[0m\u001b[0;34m\u001b[0m\u001b[0m\n\u001b[0;32m----> 6\u001b[0;31m         \u001b[0;32mraise\u001b[0m \u001b[0mValueError\u001b[0m\u001b[0;34m(\u001b[0m\u001b[0;34m\"NaN values encountered!\"\u001b[0m\u001b[0;34m)\u001b[0m\u001b[0;34m\u001b[0m\u001b[0;34m\u001b[0m\u001b[0m\n\u001b[0m",
      "\u001b[0;31mValueError\u001b[0m: NaN values encountered!"
     ]
    }
   ],
   "source": [
    "# Time integration loop\n",
    "t = 0.0\n",
    "dt = 0\n",
    "\n",
    "while t < t_max:\n",
    "    # Update the state and compute the global maximum wave speed\n",
    "    U, max_alpha = update(U, dt)\n",
    "\n",
    "    # Check for NaN values\n",
    "    check_for_nan(U)\n",
    "\n",
    "    # Compute the new time step based on CFL condition\n",
    "    dt = CFL * dx / max_alpha\n",
    "\n",
    "    # Increment the time\n",
    "    t += dt\n",
    "\n",
    "print(U)\n"
   ]
  },
  {
   "cell_type": "code",
   "execution_count": null,
   "id": "b35f5fed",
   "metadata": {},
   "outputs": [],
   "source": []
  }
 ],
 "metadata": {
  "kernelspec": {
   "display_name": "Python 3",
   "language": "python",
   "name": "python3"
  },
  "language_info": {
   "codemirror_mode": {
    "name": "ipython",
    "version": 3
   },
   "file_extension": ".py",
   "mimetype": "text/x-python",
   "name": "python",
   "nbconvert_exporter": "python",
   "pygments_lexer": "ipython3",
   "version": "3.8.8"
  }
 },
 "nbformat": 4,
 "nbformat_minor": 5
}
